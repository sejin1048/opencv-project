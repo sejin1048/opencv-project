{
 "cells": [
  {
   "cell_type": "markdown",
   "metadata": {},
   "source": [
    "## 07. 원근 변환"
   ]
  },
  {
   "cell_type": "code",
   "execution_count": 3,
   "metadata": {},
   "outputs": [],
   "source": [
    "import cv2\n",
    "import numpy as np\n",
    "\n",
    "CARD = 'images/card.jpg'"
   ]
  },
  {
   "cell_type": "code",
   "execution_count": 6,
   "metadata": {},
   "outputs": [
    {
     "name": "stdout",
     "output_type": "stream",
     "text": [
      "[[ 6.28270120e-01 -1.85565014e-01  1.45058823e+01]\n",
      " [ 1.38283394e-01  9.63824859e-01 -2.59025592e+02]\n",
      " [-2.25609902e-05  2.65181603e-04  1.00000000e+00]]\n"
     ]
    }
   ],
   "source": [
    "import cv2\n",
    "import numpy as np\n",
    "\n",
    "img = cv2.imread(CARD)\n",
    "\n",
    "width , height = 600, 400\n",
    "\n",
    "# 변형할 지점 선택 : 시계방향\n",
    "src = np.array([[54,261],[981,128],[1213,560],[194,735]], dtype=np.float32) #왼쪽 위부터 시계방향으로돌아가며\n",
    "\n",
    "# 결과물 출력할 형태 : 시계방향\n",
    "dst = np.array([[0,0],[width,0],[width,height],[0,height]], dtype=np.float32)\n",
    "\n",
    "# 원근을 변형하기 위한 matrix생성\n",
    "mat = cv2.getPerspectiveTransform(src,dst)#(변형할소스,결과물 출력할 형태)\n",
    "print(mat)\n",
    "\n",
    "# img를 mat에 의해 변환\n",
    "result = cv2.warpPerspective(img, mat,(width,height))#(원본,변환하기위한,출력될(너비,높이))\n",
    "\n",
    "\n",
    "cv2.imshow('img',img)\n",
    "cv2.imshow('perspective',result)\n",
    "cv2.waitKey(0)\n",
    "cv2.destroyAllWindows()"
   ]
  },
  {
   "cell_type": "markdown",
   "metadata": {},
   "source": [
    "### 실습1. 이미지 원근 변환"
   ]
  },
  {
   "cell_type": "code",
   "execution_count": 21,
   "metadata": {},
   "outputs": [],
   "source": [
    "TOWER = 'images/singer.jpg'\n",
    "img = cv2.imread(TOWER)\n",
    "\n",
    "width , height = 500, 750\n",
    "\n",
    "# 변형할 지점 선택 : 시계방향\n",
    "src = np.array([[239,57],[453,65],[183,619],[25,619]], dtype=np.float32) #왼쪽 위부터 시계방향으로돌아가며\n",
    "\n",
    "# 결과물 출력할 형태 : 시계방향\n",
    "dst = np.array([[0,0],[width,0],[width,height],[0,height]], dtype=np.float32)\n",
    "\n",
    "# 원근을 변형하기 위한 matrix생성\n",
    "mat = cv2.getPerspectiveTransform(src,dst)#(변형할소스,결과물 출력할 형태)\n",
    "# print(mat)\n",
    "\n",
    "# img를 mat에 의해 변환\n",
    "result = cv2.warpPerspective(img, mat,(width,height))#(원본,변환하기위한,출력될(너비,높이))\n",
    "\n",
    "\n",
    "cv2.imshow('img',img)\n",
    "cv2.imshow('perspective',result)\n",
    "cv2.waitKey(0)\n",
    "cv2.destroyAllWindows()"
   ]
  }
 ],
 "metadata": {
  "kernelspec": {
   "display_name": "my_cv",
   "language": "python",
   "name": "python3"
  },
  "language_info": {
   "codemirror_mode": {
    "name": "ipython",
    "version": 3
   },
   "file_extension": ".py",
   "mimetype": "text/x-python",
   "name": "python",
   "nbconvert_exporter": "python",
   "pygments_lexer": "ipython3",
   "version": "3.10.11"
  }
 },
 "nbformat": 4,
 "nbformat_minor": 2
}
