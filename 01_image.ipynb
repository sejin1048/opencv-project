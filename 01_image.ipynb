{
 "cells": [
  {
   "cell_type": "markdown",
   "metadata": {},
   "source": []
  },
  {
   "cell_type": "markdown",
   "metadata": {},
   "source": [
    "## 1. 이미지 입출력\n"
   ]
  },
  {
   "cell_type": "code",
   "execution_count": 1,
   "metadata": {},
   "outputs": [],
   "source": [
    "import cv2\n",
    "img_path = \"images/image1.jpg\"\n",
    "img_png_path = \"images/image2.png\""
   ]
  },
  {
   "cell_type": "code",
   "execution_count": 2,
   "metadata": {},
   "outputs": [
    {
     "name": "stdout",
     "output_type": "stream",
     "text": [
      "-1\n"
     ]
    }
   ],
   "source": [
    "img = cv2.imread(img_path)\n",
    "cv2.imshow('Image',img)\n",
    "key = cv2.waitKey(5000) # 무한대기, 키 입력 x -> -1\n",
    "print(key)\n",
    "cv2.destroyAllWindows()\n",
    "# img\n",
    "# key값은 아스키 코드값으로 받아온다. key입력이 없으면 -1 반환\n"
   ]
  },
  {
   "cell_type": "markdown",
   "metadata": {},
   "source": [
    "### 1-2 이미지 물러오기 옵션\n",
    "- 'cv2.IMREAD_COLOR' : 이미지를 컬러로, 기본옵션, 투명배경 무시\n",
    "- 'cv2.IMREAD_GRAYSCALE' : 이미지를 흑백으로\n",
    "- 'cv2.IMREAD_UNCHANGED' : 이미지컬러, 투명배경 인식, 이미지를 불러올때 alpha값을 같이 불러옴"
   ]
  },
  {
   "cell_type": "code",
   "execution_count": 3,
   "metadata": {},
   "outputs": [
    {
     "data": {
      "text/plain": [
       "<function destroyAllWindows>"
      ]
     },
     "execution_count": 3,
     "metadata": {},
     "output_type": "execute_result"
    }
   ],
   "source": [
    "img_default = cv2.imread(img_path,cv2.IMREAD_COLOR)\n",
    "img_gray = cv2.imread(img_path,cv2.IMREAD_GRAYSCALE)\n",
    "img_unchanged = cv2.imread(img_path,cv2.IMREAD_UNCHANGED)\n",
    "\n",
    "cv2.imshow('Image default', img_default)\n",
    "cv2.imshow('Image gray', img_gray)\n",
    "cv2.imshow('Image unchanged', img_unchanged)\n",
    "\n",
    "cv2.waitKey(0)\n",
    "cv2.destroyAllWindows\n"
   ]
  },
  {
   "cell_type": "markdown",
   "metadata": {},
   "source": [
    "### 1-3, 이미지 shape\n",
    "이미지의 세로, 가로, 채널을 출력해줌\n",
    "\n",
    "채널 : r,g,b의 색상의 조합으로 표현하는것"
   ]
  },
  {
   "cell_type": "code",
   "execution_count": 4,
   "metadata": {},
   "outputs": [
    {
     "name": "stdout",
     "output_type": "stream",
     "text": [
      "1094 1794 3\n",
      "1094 1794 4\n",
      "1094 1794\n"
     ]
    }
   ],
   "source": [
    "img_default = cv2.imread(img_png_path,cv2.IMREAD_COLOR)\n",
    "img_gray = cv2.imread(img_png_path,cv2.IMREAD_GRAYSCALE)\n",
    "img_unchanged = cv2.imread(img_png_path,cv2.IMREAD_UNCHANGED)\n",
    "\n",
    "\n",
    "height, width, channel = img_default.shape\n",
    "print(height, width, channel)\n",
    "#rgb+Alpha까지 4개의 채널을 불러옴\n",
    "height, width, channel = img_unchanged.shape\n",
    "print(height, width, channel)\n",
    "#흑백은 채널 없다\n",
    "height, width = img_gray.shape\n",
    "print(height, width)\n",
    "\n",
    "# cv2.imshow('Image unchanged', img_unchanged)\n",
    "# cv2.waitKey(0)\n",
    "# cv2.destroyAllWindows\n"
   ]
  },
  {
   "cell_type": "code",
   "execution_count": 6,
   "metadata": {},
   "outputs": [
    {
     "data": {
      "text/plain": [
       "113"
      ]
     },
     "execution_count": 6,
     "metadata": {},
     "output_type": "execute_result"
    }
   ],
   "source": [
    "img = cv2.imread(img_path)\n",
    "cv2.imshow('img',img)\n",
    "key = cv2.waitKey(0)\n",
    "\n",
    "if key == ord('q'):\n",
    "    cv2.destroyAllWindows()\n",
    "    \n",
    "ord('q')\n",
    "\n"
   ]
  },
  {
   "cell_type": "markdown",
   "metadata": {},
   "source": [
    "### 1-4 이미지 쓰기\n",
    "* 불러온 이미지를 파일로 생성"
   ]
  },
  {
   "cell_type": "code",
   "execution_count": 13,
   "metadata": {},
   "outputs": [],
   "source": [
    "# img = cv2.imread(img_path)\n",
    "img_gray = cv2.imread(img_path,cv2.IMREAD_GRAYSCALE)\n",
    "cv2.imwrite('output/new_img.jpg',img_gray)\n",
    "cv2.imshow('img',img_gray)\n",
    "key = cv2.waitKey(0)\n",
    "cv2.destroyAllWindows()"
   ]
  }
 ],
 "metadata": {
  "kernelspec": {
   "display_name": "my_cv",
   "language": "python",
   "name": "python3"
  },
  "language_info": {
   "codemirror_mode": {
    "name": "ipython",
    "version": 3
   },
   "file_extension": ".py",
   "mimetype": "text/x-python",
   "name": "python",
   "nbconvert_exporter": "python",
   "pygments_lexer": "ipython3",
   "version": "3.10.11"
  }
 },
 "nbformat": 4,
 "nbformat_minor": 2
}
