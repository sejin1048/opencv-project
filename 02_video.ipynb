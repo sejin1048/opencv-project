{
 "cells": [
  {
   "cell_type": "markdown",
   "metadata": {},
   "source": [
    "## 02. 비디오 입출력\n"
   ]
  },
  {
   "cell_type": "markdown",
   "metadata": {},
   "source": [
    "## 2-1. 비디오 파일 입출력\n",
    "- 비디오의 재생 : 연속된 이미지를 재생하는 것\n",
    "- 프레임 : 연속된 이미지 중 하나\n",
    "- 비디오를 재생하기 위해서는 프레임을 연속적으로 재생해야함"
   ]
  },
  {
   "cell_type": "code",
   "execution_count": 2,
   "metadata": {},
   "outputs": [],
   "source": [
    "import cv2\n",
    "road_path = \"videos/road.mp4\""
   ]
  },
  {
   "cell_type": "markdown",
   "metadata": {},
   "source": [
    "### 2-1. 비디오 파일 입출력\n",
    "- 'cv2.VideoCapture(\"파일경로\") : 경로의 파일을 불러옴\n",
    "- 'VideoCapture.isOpened()' : 파일이 열렸는지 확인\n",
    "- 'VideoCapture.read()' : 파일을 읽어서 frame을 반환\n",
    "  - ret : 프레임이 있는지 체크, frame: 불러온 이미지\n",
    "\n",
    "- 'VideoCapture()' : "
   ]
  },
  {
   "cell_type": "code",
   "execution_count": 3,
   "metadata": {},
   "outputs": [
    {
     "name": "stdout",
     "output_type": "stream",
     "text": [
      "< cv2.VideoCapture 000002573D6397B0>\n"
     ]
    }
   ],
   "source": [
    "cap = cv2.VideoCapture(road_path)\n",
    "print(cap)\n",
    "\n",
    "while cap.isOpened():\n",
    "    ret, frame = cap.read()\n",
    "    \n",
    "    if not ret:\n",
    "        break\n",
    "    # print(ret,frame)\n",
    "    \n",
    "    cv2.imshow(\"video\",frame)\n",
    "    \n",
    "    if cv2.waitKey(1) == ord(\"q\"): # waitKey()안의 숫자가 프레임과 프렘이 사이의 속도임\n",
    "        break\n",
    "\n",
    "cap.release()\n",
    "cv2.destroyAllWindows()"
   ]
  },
  {
   "cell_type": "markdown",
   "metadata": {},
   "source": [
    "### 2-2. 영상의 프레임 불러오기\n",
    "- 'VideoCapture.get'(cv2.CAP_PROP_FPS)"
   ]
  },
  {
   "cell_type": "code",
   "execution_count": 4,
   "metadata": {},
   "outputs": [
    {
     "name": "stdout",
     "output_type": "stream",
     "text": [
      "30.0\n",
      "33\n"
     ]
    }
   ],
   "source": [
    "cap = cv2.VideoCapture(road_path)\n",
    "fps = cap.get(cv2.CAP_PROP_FPS)\n",
    "print(fps)\n",
    "print(int(1000/fps))\n",
    "\n",
    "# while cap.isOpened():\n",
    "#     ret, frame = cap.read()\n",
    "\n",
    "#     if not ret:\n",
    "#         break\n",
    "    \n",
    "#     cv2.imshow('video',frame)\n",
    "    \n",
    "#     if cv2.waitKey(int(1000/fps)) == ord('q'):\n",
    "#         break\n",
    "    \n",
    "# # cap.release() #영상해제\n",
    "# cv2.destroyAllWindows()\n",
    "\n"
   ]
  },
  {
   "cell_type": "markdown",
   "metadata": {},
   "source": [
    "## 2-3. 카메라 입출력"
   ]
  },
  {
   "cell_type": "code",
   "execution_count": 5,
   "metadata": {},
   "outputs": [],
   "source": [
    "cap = cv2.VideoCapture(0)\n",
    "# print(cap.isOpened())\n",
    "\n",
    "if not cap.isOpened():\n",
    "    exit()\n",
    "    \n",
    "while True:\n",
    "    ret,frame = cap.read()\n",
    "    \n",
    "    if not ret:\n",
    "        break\n",
    "    \n",
    "    cv2.imshow(\"Camera\",frame)\n",
    "    \n",
    "    if cv2.waitKey(1) == ord(\"q\"):\n",
    "        break\n",
    "    \n",
    "cap.release()\n",
    "cv2.destroyAllWindows()    "
   ]
  },
  {
   "cell_type": "markdown",
   "metadata": {},
   "source": [
    "## 2-4. 비디오 쓰기\n",
    "- 프레임을 하나하나 불러와서 쓰고 합쳐준다\n",
    "- 'cv2.VideoWriter(파일경로,fourcc)' : 영상을 쓰기"
   ]
  },
  {
   "cell_type": "code",
   "execution_count": 6,
   "metadata": {},
   "outputs": [],
   "source": [
    "# VideoWriter 생성\n",
    "cap = cv2.VideoCapture(road_path)\n",
    "fourcc = cv2.VideoWriter_fourcc(*\"DIVH\")\n",
    "fps = cap.get(cv2.CAP_PROP_FPS)\n",
    "width = round(cap.get(cv2.CAP_PROP_FRAME_WIDTH))\n",
    "height = round(cap.get(cv2.CAP_PROP_FRAME_HEIGHT))\n",
    "size = (width, height)\n",
    "# print(width, height)\n",
    "\n",
    "out = cv2.VideoWriter(\"output/road.mp4\", fourcc,fps,size) #fourcc : 인코딩 해주는 4글짜 짜리 코텍 : DIVX, H264, MP4V\n",
    "# print(*\"DIVX\")\n",
    "\n",
    "while cap.isOpened():\n",
    "    ret, frame = cap.read()\n",
    "    if not ret:\n",
    "        break\n",
    "    out.write(frame) #소리는 X\n",
    "    cv2.imshow(\"Video\", frame)\n",
    "    if cv2.waitKey(int(1000/fps)) == ord(\"q\"):\n",
    "        break\n",
    "cap.release()\n",
    "out.release()\n",
    "cv2.destroyAllWindows()\n",
    "    "
   ]
  },
  {
   "cell_type": "code",
   "execution_count": 7,
   "metadata": {},
   "outputs": [],
   "source": [
    "#실습 웹켐으로 사진찍기\n",
    "cap = cv2.VideoCapture(0)\n",
    "if not cap.isOpened():\n",
    "    exit()\n",
    "    \n",
    "while True:\n",
    "    ret, frame = cap.read()\n",
    "    \n",
    "    if not ret:\n",
    "        break\n",
    "    \n",
    "    cv2.imshow('Camera',frame)\n",
    "    \n",
    "    #if cv2.waitKey(1) != -1: 어떤 입력이든 입력하면 캡쳐후 종료\n",
    "    if cv2.waitKey(1) == ord(\"q\"):\n",
    "        cv2.imwrite(\"output/capture.jpg\",frame)\n",
    "        break\n",
    "\n",
    "cap.release()\n",
    "cv2.destroyAllWindows()\n",
    "        "
   ]
  }
 ],
 "metadata": {
  "kernelspec": {
   "display_name": "my_cv",
   "language": "python",
   "name": "python3"
  },
  "language_info": {
   "codemirror_mode": {
    "name": "ipython",
    "version": 3
   },
   "file_extension": ".py",
   "mimetype": "text/x-python",
   "name": "python",
   "nbconvert_exporter": "python",
   "pygments_lexer": "ipython3",
   "version": "3.10.11"
  }
 },
 "nbformat": 4,
 "nbformat_minor": 2
}
