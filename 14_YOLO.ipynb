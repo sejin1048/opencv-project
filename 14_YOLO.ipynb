{
 "cells": [
  {
   "cell_type": "markdown",
   "metadata": {},
   "source": [
    "## 14. YOLO"
   ]
  },
  {
   "cell_type": "code",
   "execution_count": 2,
   "metadata": {},
   "outputs": [],
   "source": [
    "from ultralytics import YOLO\n",
    "import cv2\n",
    "import numpy as np"
   ]
  },
  {
   "cell_type": "code",
   "execution_count": null,
   "metadata": {},
   "outputs": [],
   "source": [
    "# YOLO모델 불러오기, 신뢰도 0.5\n",
    "model = YOLO('yolo11n.pt')\n",
    "img = cv2.imread('images/person_dog.jpg')\n",
    "\n",
    "# 객체 인식\n",
    "results = model.predict(img, conf=0.5)\n",
    "\n",
    "# 탐지 결과를 이미지 위에 그려줌\n",
    "annotated_frame = results[0].plot()\n",
    "print(results, annotated_frame)\n",
    "cv2.imshow('img',annotated_frame)\n",
    "cv2.waitKey(0)\n",
    "cv2.destroyAllWindows()"
   ]
  },
  {
   "cell_type": "code",
   "execution_count": null,
   "metadata": {},
   "outputs": [],
   "source": [
    "#영상\n",
    "cap = cv2.VideoCapture('videos/cars.mp4')\n",
    "model = YOLO('yolo11n.pt')\n",
    "\n",
    "while cap.isOpened():\n",
    "    ret, frame = cap.read()\n",
    "    \n",
    "    if not ret:\n",
    "        break\n",
    "    \n",
    "    frame = cv2.resize(frame, None, fx=0.5, fy=0.5)\n",
    "    results = model.predict(frame, conf=0.4)\n",
    "    annotated_frame = results[0].plot()\n",
    "    \n",
    "    cv2.imshow('video',annotated_frame)\n",
    "    \n",
    "    if cv2.waitKey(1) == ord('q'):\n",
    "        break\n",
    "\n",
    "cap.release()\n",
    "cv2.destroyAllWindows()"
   ]
  },
  {
   "cell_type": "code",
   "execution_count": 7,
   "metadata": {},
   "outputs": [
    {
     "name": "stdout",
     "output_type": "stream",
     "text": [
      "\n",
      "0: 480x640 1 person, 343.1ms\n",
      "Speed: 8.0ms preprocess, 343.1ms inference, 4.0ms postprocess per image at shape (1, 3, 480, 640)\n",
      "\n",
      "0: 480x640 1 person, 437.8ms\n",
      "Speed: 23.9ms preprocess, 437.8ms inference, 2.0ms postprocess per image at shape (1, 3, 480, 640)\n",
      "\n",
      "0: 480x640 1 person, 365.0ms\n",
      "Speed: 6.0ms preprocess, 365.0ms inference, 2.0ms postprocess per image at shape (1, 3, 480, 640)\n",
      "\n",
      "0: 480x640 1 person, 258.3ms\n",
      "Speed: 14.0ms preprocess, 258.3ms inference, 2.0ms postprocess per image at shape (1, 3, 480, 640)\n",
      "\n",
      "0: 480x640 1 person, 1 cell phone, 200.5ms\n",
      "Speed: 6.0ms preprocess, 200.5ms inference, 2.0ms postprocess per image at shape (1, 3, 480, 640)\n",
      "\n",
      "0: 480x640 1 person, 217.4ms\n",
      "Speed: 7.0ms preprocess, 217.4ms inference, 1.0ms postprocess per image at shape (1, 3, 480, 640)\n",
      "\n",
      "0: 480x640 1 person, 215.4ms\n",
      "Speed: 6.0ms preprocess, 215.4ms inference, 1.0ms postprocess per image at shape (1, 3, 480, 640)\n",
      "\n",
      "0: 480x640 1 person, 224.7ms\n",
      "Speed: 7.0ms preprocess, 224.7ms inference, 2.0ms postprocess per image at shape (1, 3, 480, 640)\n",
      "\n",
      "0: 480x640 1 person, 407.9ms\n",
      "Speed: 10.0ms preprocess, 407.9ms inference, 3.0ms postprocess per image at shape (1, 3, 480, 640)\n",
      "\n",
      "0: 480x640 1 person, 211.4ms\n",
      "Speed: 7.0ms preprocess, 211.4ms inference, 1.0ms postprocess per image at shape (1, 3, 480, 640)\n",
      "\n",
      "0: 480x640 1 person, 223.4ms\n",
      "Speed: 7.0ms preprocess, 223.4ms inference, 3.0ms postprocess per image at shape (1, 3, 480, 640)\n",
      "\n",
      "0: 480x640 1 person, 301.2ms\n",
      "Speed: 13.0ms preprocess, 301.2ms inference, 6.3ms postprocess per image at shape (1, 3, 480, 640)\n",
      "\n",
      "0: 480x640 1 person, 241.4ms\n",
      "Speed: 9.0ms preprocess, 241.4ms inference, 3.0ms postprocess per image at shape (1, 3, 480, 640)\n",
      "\n",
      "0: 480x640 1 person, 186.5ms\n",
      "Speed: 11.0ms preprocess, 186.5ms inference, 2.0ms postprocess per image at shape (1, 3, 480, 640)\n"
     ]
    }
   ],
   "source": [
    "#캠코더\n",
    "from ultralytics import YOLO\n",
    "import cv2\n",
    "import numpy as np\n",
    "cap = cv2.VideoCapture(0)\n",
    "model = YOLO('yolo11n.pt')\n",
    "\n",
    "while cap.isOpened():\n",
    "    ret, frame = cap.read()\n",
    "    \n",
    "    if not ret:\n",
    "        break\n",
    "    \n",
    "    frame = cv2.resize(frame, None, fx=1.5, fy=1.5)\n",
    "    results = model.predict(frame, conf=0.4)\n",
    "    annotated_frame = results[0].plot()\n",
    "    \n",
    "    cv2.imshow('video',annotated_frame)\n",
    "    \n",
    "    if cv2.waitKey(1) == ord('q'):\n",
    "        break\n",
    "\n",
    "cap.release()\n",
    "cv2.destroyAllWindows()"
   ]
  },
  {
   "cell_type": "code",
   "execution_count": 1,
   "metadata": {},
   "outputs": [],
   "source": [
    "# %pip install pytesseract\n",
    "from pytesseract import pytesseract as pyt"
   ]
  }
 ],
 "metadata": {
  "kernelspec": {
   "display_name": "my_cv",
   "language": "python",
   "name": "python3"
  },
  "language_info": {
   "codemirror_mode": {
    "name": "ipython",
    "version": 3
   },
   "file_extension": ".py",
   "mimetype": "text/x-python",
   "name": "python",
   "nbconvert_exporter": "python",
   "pygments_lexer": "ipython3",
   "version": "3.10.11"
  }
 },
 "nbformat": 4,
 "nbformat_minor": 2
}
