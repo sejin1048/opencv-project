{
 "cells": [
  {
   "cell_type": "markdown",
   "metadata": {},
   "source": [
    "## 05. 이미지 조정"
   ]
  },
  {
   "cell_type": "code",
   "execution_count": 2,
   "metadata": {},
   "outputs": [],
   "source": [
    "import cv2\n",
    "import numpy as np"
   ]
  },
  {
   "cell_type": "code",
   "execution_count": 3,
   "metadata": {},
   "outputs": [],
   "source": [
    "DOG_PATH = 'images/dog.jpg'"
   ]
  },
  {
   "cell_type": "markdown",
   "metadata": {},
   "source": [
    "### 5-1. 이미지 복사"
   ]
  },
  {
   "cell_type": "code",
   "execution_count": 4,
   "metadata": {},
   "outputs": [],
   "source": [
    "img = cv2.imread(DOG_PATH)\n",
    "shallow_copy = img #얕은복사\n",
    "deep_copy = img.copy()\n",
    "\n",
    "shallow_copy = cv2.cvtColor(shallow_copy, cv2.COLOR_BGR2GRAY)\n",
    "\n",
    "cv2.imshow('original',img)\n",
    "cv2.imshow('shallow',shallow_copy)\n",
    "\n",
    "cv2.waitKey(0)\n",
    "cv2.destroyAllWindows()"
   ]
  },
  {
   "cell_type": "markdown",
   "metadata": {},
   "source": [
    "### 5-2. 리사이즈"
   ]
  },
  {
   "cell_type": "code",
   "execution_count": 5,
   "metadata": {},
   "outputs": [],
   "source": [
    "img = cv2.imread(DOG_PATH)\n",
    "img.shape\n",
    "\n",
    "#고정 크기를 입력해서 조정\n",
    "# dst = cv2.resize(img,(320,213))\n",
    "# dst = cv2.resize(img,(1280,850))\n",
    "# cv2.imshow('resize',dst)\n",
    "# cv2.waitKey(0)\n",
    "# cv2.destroyAllWindows()\n",
    "\n",
    "#비율로 조정\n",
    "# dst = cv2.resize(img,None,fx=1.5,fy=1.5)\n",
    "near = cubic = cv2.resize(img,None,fx=1.5,fy=1.5, interpolation=cv2.INTER_NEAREST)\n",
    "cubic = cv2.resize(img,None,fx=1.5,fy=1.5, interpolation=cv2.INTER_CUBIC)\n",
    "\n",
    "cv2.imshow('near',near)\n",
    "cv2.imshow('cubic',cubic)\n",
    "cv2.waitKey(0)\n",
    "cv2.destroyAllWindows()\n"
   ]
  },
  {
   "cell_type": "markdown",
   "metadata": {},
   "source": [
    "### 실습2. 영상리사이즈 해서 출력"
   ]
  },
  {
   "cell_type": "code",
   "execution_count": 6,
   "metadata": {},
   "outputs": [],
   "source": [
    "#비디오패스\n",
    "VIDEO_PATH = 'videos/road.mp4'\n",
    "cap = cv2.VideoCapture(VIDEO_PATH)\n",
    "fourcc = cv2.VideoWriter_fourcc(*\"DIVH\")\n",
    "fps = cap.get(cv2.CAP_PROP_FPS)\n",
    "width = round(cap.get(cv2.CAP_PROP_FRAME_WIDTH))\n",
    "height = round(cap.get(cv2.CAP_PROP_FRAME_HEIGHT))\n",
    "size = (width, height)\n",
    "\n",
    "while cap.isOpened():\n",
    "    ret, frame = cap.read()\n",
    "    if not ret:\n",
    "        break\n",
    "    \n",
    "    resize = cv2.resize(frame,None,fx=1.5,fy=1.5, interpolation=cv2.INTER_CUBIC)\n",
    "    cv2.imshow(\"original\", frame)\n",
    "    cv2.imshow(\"resize\",resize)\n",
    "    if cv2.waitKey(int(1000/fps)) == ord(\"q\"):\n",
    "        break\n",
    "cap.release()\n",
    "cv2.destroyAllWindows()\n",
    "    "
   ]
  },
  {
   "cell_type": "code",
   "execution_count": 7,
   "metadata": {},
   "outputs": [],
   "source": [
    "#이미지 피라미드\n",
    "\n",
    "img = cv2.imread(DOG_PATH)\n",
    "\n",
    "\n",
    "size_up = cv2.pyrUp(img)\n",
    "size_down = cv2.pyrDown(img)\n",
    "\n",
    "cv2.imshow('original',img)\n",
    "cv2.imshow(\"Pyr up\",size_up) #2배씩 늘어남\n",
    "cv2.imshow(\"Pyr Down\",size_down) #2배씩 줄어듬\n",
    "cv2.waitKey(0)\n",
    "cv2.destroyAllWindows()\n"
   ]
  },
  {
   "cell_type": "markdown",
   "metadata": {},
   "source": [
    "### 5-3. 이미지 자르기"
   ]
  },
  {
   "cell_type": "code",
   "execution_count": 8,
   "metadata": {},
   "outputs": [],
   "source": [
    "img = cv2.imread(DOG_PATH)\n",
    "\n",
    "cropped = img[200:400, 150:250]\n",
    "img[200:400, 300:400] = cropped\n",
    "\n",
    "cv2.imshow('Dog',img)\n",
    "cv2.imshow('Dog cropped', cropped)\n",
    "\n",
    "cv2.waitKey(0)\n",
    "cv2.destroyAllWindows()"
   ]
  },
  {
   "cell_type": "markdown",
   "metadata": {},
   "source": [
    "### 5-4. 이미지 대칭 \n",
    "- 'flipcode > 0' : 좌우 반전 (y축 반전)   정수만 넣어야함\n",
    "- 'flipcode == 0' : 상하 반전 (x축 반전)  정수만 넣어야함\n",
    "- 'flipcode < 0' : 상하좌우 반전 (원점 대칭)  정수만 넣어야함"
   ]
  },
  {
   "cell_type": "code",
   "execution_count": 9,
   "metadata": {},
   "outputs": [
    {
     "data": {
      "text/plain": [
       "113"
      ]
     },
     "execution_count": 9,
     "metadata": {},
     "output_type": "execute_result"
    }
   ],
   "source": [
    "img = cv2.imread(DOG_PATH)\n",
    "\n",
    "dst_1 = cv2.flip(img,1)\n",
    "dst_2 = cv2.flip(img,0)\n",
    "dst_3 = cv2.flip(img,-1)\n",
    "\n",
    "cv2.imshow('img',img)\n",
    "cv2.imshow('dst_1',dst_1)\n",
    "cv2.imshow('dst_2',dst_2)\n",
    "cv2.imshow('dst_3',dst_3)\n",
    "\n",
    "cv2.waitKey()\n"
   ]
  },
  {
   "cell_type": "markdown",
   "metadata": {},
   "source": [
    "### 실습3. 이미지 조정"
   ]
  },
  {
   "cell_type": "code",
   "execution_count": 10,
   "metadata": {},
   "outputs": [],
   "source": [
    "IU_PATH = \"images/IU.jpg\"\n",
    "img = cv2.imread(IU_PATH)\n",
    "\n",
    "# img.shape #(834,600,3)\n",
    "#1번 원본이미지 가로세로 1/2 축소\n",
    "#1번의 이미지 좌우반전\n",
    "\n",
    "# dst_1 = cv2.pyrDown(img)\n",
    "dst_1 = cv2.resize(img,None,fx=0.5,fy=0.5, interpolation=cv2.INTER_NEAREST)\n",
    "dst_2 = cv2.flip(dst_1,1)\n",
    "\n",
    "iheight, iwidth, ichannel = img.shape\n",
    "dheight, dwidth, dchannel = dst_1.shape\n",
    "\n",
    "\n",
    "# dst_2.shape #(417,300)\n",
    "#2번의 이미지를 원본과 동일한 크기의 복사 이미지의 우하단에 배치\n",
    "cropped = dst_2\n",
    "img[iheight-dheight:iheight, iwidth-dwidth:iwidth] = cropped\n",
    "\n",
    "cv2.imshow('resize',dst_1)\n",
    "cv2.imshow('fliped',dst_2)\n",
    "cv2.imshow('original', img)\n",
    "cv2.waitKey(0)\n",
    "cv2.destroyAllWindows()\n",
    "# 1번이미지를 좌우 반전\n"
   ]
  },
  {
   "cell_type": "code",
   "execution_count": 14,
   "metadata": {},
   "outputs": [],
   "source": [
    "img = cv2.imread(IU_PATH)\n",
    "\n",
    "blue, green, red = cv2.split(img)\n",
    "# print(blue, green, red)\n",
    "# cv2.imshow('Blue',blue)\n",
    "# cv2.imshow('Green',green)\n",
    "# cv2.imshow('Red',red)\n",
    "\n",
    "\n",
    "merged_image = cv2.merge([blue,green,red])\n",
    "cv2.imshow('merged',merged_image)\n",
    "cv2.waitKey(0)\n",
    "cv2.destroyAllWindows()\n",
    "\n"
   ]
  },
  {
   "cell_type": "markdown",
   "metadata": {},
   "source": [
    "### 5-4. 이미지 색상 변경"
   ]
  },
  {
   "cell_type": "code",
   "execution_count": 17,
   "metadata": {},
   "outputs": [
    {
     "data": {
      "text/plain": [
       "(834, 600)"
      ]
     },
     "execution_count": 17,
     "metadata": {},
     "output_type": "execute_result"
    }
   ],
   "source": [
    "img = cv2.imread(IU_PATH)\n",
    "gray = cv2.cvtColor(img, cv2.COLOR_BGR2GRAY)\n",
    "rgb = cv2.cvtColor(img, cv2.COLOR_BGR2RGB)\n",
    "\n",
    "gray.shape\n",
    "\n",
    "# cv2.imshow('gray',gray)\n",
    "# cv2.imshow('rgb',rgb)\n",
    "# cv2.waitKey(0)\n",
    "# cv2.destroyAllWindows()"
   ]
  },
  {
   "cell_type": "markdown",
   "metadata": {},
   "source": [
    "### 실습4. 이미지 흑백 반전\n"
   ]
  },
  {
   "cell_type": "code",
   "execution_count": 20,
   "metadata": {},
   "outputs": [],
   "source": [
    "img = cv2.imread(IU_PATH)\n",
    "gray = cv2.cvtColor(img, cv2.COLOR_BGR2GRAY)\n",
    "\n",
    "inverted_img = 255-gray\n",
    "\n",
    "cv2.imshow('gray',gray)\n",
    "cv2.imshow('inverted_img',inverted_img)\n",
    "\n",
    "cv2.waitKey(0)\n",
    "cv2.destroyAllWindows()"
   ]
  },
  {
   "cell_type": "markdown",
   "metadata": {},
   "source": [
    "### 5-5. 이미지 흐리기(GaussianBlur)"
   ]
  },
  {
   "cell_type": "code",
   "execution_count": 23,
   "metadata": {},
   "outputs": [],
   "source": [
    "img = cv2.imread(IU_PATH)\n",
    "\n",
    "# # 커널을 사용하는 방식\n",
    "# #-> (3,3), (5,5), (7,7) : 커널사이즈가 커지면 참조하는 팩셀수가 많아서 블러가 더 강하게처리됨 -> 더 흐려짐\n",
    "\n",
    "# kernel_3 = cv2.GaussianBlur(img, (3,3), 0)\n",
    "# kernel_5 = cv2.GaussianBlur(img, (5,5), 0)\n",
    "# kernel_7 = cv2.GaussianBlur(img, (7,7), 0)\n",
    "\n",
    "# cv2.imshow('kernel_3',kernel_3)\n",
    "# cv2.imshow('kernel_5',kernel_5)\n",
    "# cv2.imshow('kernel_7',kernel_7)\n",
    "\n",
    "# cv2.waitKey(0)\n",
    "# cv2.destroyAllWindows()\n",
    "\n",
    "# 표준편차를 사용하는 방식 -> 표준편차가 작으면 더 가깝다, 표준편차가 커지면 더 참조하는 픽셀의 크기가 많아진다\n",
    "sigma_3 = cv2.GaussianBlur(img, (0,0), 1)\n",
    "sigma_5 = cv2.GaussianBlur(img, (0,0), 2)\n",
    "sigma_7 = cv2.GaussianBlur(img, (0,0), 3)\n",
    "\n",
    "cv2.imshow('sigma_3',sigma_3)\n",
    "cv2.imshow('sigma_5',sigma_5)\n",
    "cv2.imshow('sigma_7',sigma_7)\n",
    "\n",
    "cv2.waitKey(0)\n",
    "cv2.destroyAllWindows()"
   ]
  },
  {
   "cell_type": "markdown",
   "metadata": {},
   "source": [
    "### 5-6. 이미지 회전\n",
    "- rotateCode\n",
    "    - 'cv2.ROTATE_90_CLOCKWISE' : 시계방향 90도 회전\n",
    "    - 'cv2.ROTATE_180' : 180도 회전\n",
    "    - 'cv2.ROTATE_90_COUNTERCLOCKWISE' : 반시계방향 90도 회전"
   ]
  },
  {
   "cell_type": "code",
   "execution_count": 25,
   "metadata": {},
   "outputs": [],
   "source": [
    "#Rotate를 사용한 변환\n",
    "img = cv2.imread(IU_PATH)\n",
    "dst_90 = cv2.rotate(img,cv2.ROTATE_90_CLOCKWISE)\n",
    "dst_180 = cv2.rotate(img,cv2.ROTATE_180)\n",
    "dst_90_counter = cv2.rotate(img,cv2.ROTATE_90_COUNTERCLOCKWISE)\n",
    "\n",
    "cv2.imshow('dst_90',dst_90)\n",
    "cv2.imshow('dst_180',dst_180)\n",
    "cv2.imshow('dst_90_counter',dst_90_counter)\n",
    "\n",
    "cv2.waitKey(0)\n",
    "cv2.destroyAllWindows()"
   ]
  },
  {
   "cell_type": "code",
   "execution_count": 31,
   "metadata": {},
   "outputs": [],
   "source": [
    "# affine 변환 사용\n",
    "img = cv2.imread(IU_PATH)\n",
    "center = (img.shape[1]/2, img.shape[0]/2)\n",
    "\n",
    "affine = cv2.getRotationMatrix2D(center, -45, 1) #angle은 기본으로는 반시계 방향으로 돌아감\n",
    "dst = cv2.warpAffine(img, affine,(img.shape[1], img.shape[0])) #dsize:원본사이즈 유지\n",
    "\n",
    "\n",
    "cv2.imshow(\"img\",img)\n",
    "cv2.imshow(\"Rotate\",dst)\n",
    "cv2.waitKey(0)\n",
    "cv2.destroyAllWindows()"
   ]
  },
  {
   "cell_type": "code",
   "execution_count": 35,
   "metadata": {},
   "outputs": [
    {
     "ename": "error",
     "evalue": "OpenCV(4.10.0) D:\\a\\opencv-python\\opencv-python\\opencv\\modules\\imgproc\\src\\imgwarp.cpp:2834: error: (-215:Assertion failed) (M0.type() == CV_32F || M0.type() == CV_64F) && M0.rows == 2 && M0.cols == 3 in function 'cv::warpAffine'\n",
     "output_type": "error",
     "traceback": [
      "\u001b[1;31m---------------------------------------------------------------------------\u001b[0m",
      "\u001b[1;31merror\u001b[0m                                     Traceback (most recent call last)",
      "Cell \u001b[1;32mIn[35], line 9\u001b[0m\n\u001b[0;32m      6\u001b[0m rad \u001b[38;5;241m=\u001b[39m \u001b[38;5;241m45\u001b[39m\u001b[38;5;241m*\u001b[39mmath\u001b[38;5;241m.\u001b[39mpi\u001b[38;5;241m/\u001b[39m\u001b[38;5;241m180\u001b[39m \u001b[38;5;66;03m#degree로 변환\u001b[39;00m\n\u001b[0;32m      7\u001b[0m affine \u001b[38;5;241m=\u001b[39m np\u001b[38;5;241m.\u001b[39marray([[math\u001b[38;5;241m.\u001b[39mcos(rad), \u001b[38;5;241m-\u001b[39mmath\u001b[38;5;241m.\u001b[39msin(rad)],[math\u001b[38;5;241m.\u001b[39msin(rad), \u001b[38;5;241m-\u001b[39mmath\u001b[38;5;241m.\u001b[39mcos(rad)]])\n\u001b[1;32m----> 9\u001b[0m dst \u001b[38;5;241m=\u001b[39m \u001b[43mcv2\u001b[49m\u001b[38;5;241;43m.\u001b[39;49m\u001b[43mwarpAffine\u001b[49m\u001b[43m(\u001b[49m\u001b[43mimg\u001b[49m\u001b[43m,\u001b[49m\u001b[43m \u001b[49m\u001b[43maffine\u001b[49m\u001b[43m,\u001b[49m\u001b[43m(\u001b[49m\u001b[43mimg\u001b[49m\u001b[38;5;241;43m.\u001b[39;49m\u001b[43mshape\u001b[49m\u001b[43m[\u001b[49m\u001b[38;5;241;43m1\u001b[39;49m\u001b[43m]\u001b[49m\u001b[43m,\u001b[49m\u001b[43m \u001b[49m\u001b[43mimg\u001b[49m\u001b[38;5;241;43m.\u001b[39;49m\u001b[43mshape\u001b[49m\u001b[43m[\u001b[49m\u001b[38;5;241;43m0\u001b[39;49m\u001b[43m]\u001b[49m\u001b[43m)\u001b[49m\u001b[43m)\u001b[49m \u001b[38;5;66;03m#dsize:원본사이즈 유지\u001b[39;00m\n\u001b[0;32m     12\u001b[0m cv2\u001b[38;5;241m.\u001b[39mimshow(\u001b[38;5;124m\"\u001b[39m\u001b[38;5;124mimg\u001b[39m\u001b[38;5;124m\"\u001b[39m,img)\n\u001b[0;32m     13\u001b[0m cv2\u001b[38;5;241m.\u001b[39mimshow(\u001b[38;5;124m\"\u001b[39m\u001b[38;5;124mRotate\u001b[39m\u001b[38;5;124m\"\u001b[39m,dst)\n",
      "\u001b[1;31merror\u001b[0m: OpenCV(4.10.0) D:\\a\\opencv-python\\opencv-python\\opencv\\modules\\imgproc\\src\\imgwarp.cpp:2834: error: (-215:Assertion failed) (M0.type() == CV_32F || M0.type() == CV_64F) && M0.rows == 2 && M0.cols == 3 in function 'cv::warpAffine'\n"
     ]
    }
   ],
   "source": [
    "#직접 행렬 만들기\n",
    "import math\n",
    "img = cv2.imread(IU_PATH)\n",
    "center = (img.shape[1]/2, img.shape[0]/2)\n",
    "\n",
    "rad = 45*math.pi/180 #degree로 변환\n",
    "affine = np.array([[math.cos(rad), -math.sin(rad)],[math.sin(rad), -math.cos(rad)]])\n",
    "\n",
    "dst = cv2.warpAffine(img, affine,(img.shape[1], img.shape[0])) #dsize:원본사이즈 유지\n",
    "\n",
    "\n",
    "cv2.imshow(\"img\",img)\n",
    "cv2.imshow(\"Rotate\",dst)\n",
    "cv2.waitKey(0)\n",
    "cv2.destroyAllWindows()"
   ]
  }
 ],
 "metadata": {
  "kernelspec": {
   "display_name": "my_cv",
   "language": "python",
   "name": "python3"
  },
  "language_info": {
   "codemirror_mode": {
    "name": "ipython",
    "version": 3
   },
   "file_extension": ".py",
   "mimetype": "text/x-python",
   "name": "python",
   "nbconvert_exporter": "python",
   "pygments_lexer": "ipython3",
   "version": "3.10.11"
  }
 },
 "nbformat": 4,
 "nbformat_minor": 2
}
