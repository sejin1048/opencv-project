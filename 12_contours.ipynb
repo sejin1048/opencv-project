{
 "cells": [
  {
   "cell_type": "markdown",
   "metadata": {},
   "source": [
    "## 12. 윤곽선 검출\n",
    "- 경계선을 연결한 선\n",
    "- 흑백 이미지를 불러옴 -> 이진화 -> 윤곽선 찾기(findContours) -> 윤곽선 그리기(drawContours)"
   ]
  },
  {
   "cell_type": "code",
   "execution_count": 2,
   "metadata": {},
   "outputs": [],
   "source": [
    "import cv2\n",
    "\n",
    "MOUNTAIN = 'images/mountain.jpg'"
   ]
  },
  {
   "cell_type": "markdown",
   "metadata": {},
   "source": [
    "### 12-1. 윤곽선 검출 과정"
   ]
  },
  {
   "cell_type": "code",
   "execution_count": 3,
   "metadata": {},
   "outputs": [
    {
     "name": "stdout",
     "output_type": "stream",
     "text": [
      "90.0\n"
     ]
    }
   ],
   "source": [
    "img = cv2.imread(MOUNTAIN)\n",
    "coppied = img.copy()\n",
    "coppied2 = img.copy()\n",
    "\n",
    "#그레이스케일로 변환\n",
    "gray = cv2.cvtColor(coppied,cv2.COLOR_BGR2GRAY)\n",
    "\n",
    "#이진화\n",
    "ret , binary = cv2.threshold(gray,-1,255,cv2.THRESH_BINARY|cv2.THRESH_OTSU)\n",
    "print(ret)\n",
    "\n",
    "#윤곽선 찾기\n",
    "contours, hierachy = cv2.findContours(binary, cv2.RETR_LIST, cv2.CHAIN_APPROX_NONE) #return값:윤곽선,계층구조\n",
    "contours2, hierachy2 = cv2.findContours(binary, cv2.RETR_EXTERNAL, cv2.CHAIN_APPROX_NONE)\n",
    "\n",
    "#윤곽선 그리기\n",
    "cv2.drawContours(coppied, contours, -1, (0,255,0), 3)\n",
    "cv2.drawContours(coppied2, contours2, -1, (0,255,0), 3)\n",
    "\n",
    "cv2.imshow('img',img)\n",
    "cv2.imshow('contours',coppied)\n",
    "cv2.imshow('contours2',coppied2)\n",
    "\n",
    "cv2.waitKey(0)\n",
    "cv2.destroyAllWindows()"
   ]
  },
  {
   "cell_type": "markdown",
   "metadata": {},
   "source": [
    "### 12-2 BoundingRect\n",
    "- 윤곽선을 둘러싼 사각형 그리기"
   ]
  },
  {
   "cell_type": "code",
   "execution_count": 3,
   "metadata": {},
   "outputs": [],
   "source": [
    "img = cv2.imread(MOUNTAIN)\n",
    "coppied = img.copy()\n",
    "\n",
    "#그레이스케일로 변환\n",
    "gray = cv2.cvtColor(coppied,cv2.COLOR_BGR2GRAY)\n",
    "ret , binary = cv2.threshold(gray,-1,255,cv2.THRESH_BINARY|cv2.THRESH_OTSU)\n",
    "\n",
    "#윤곽선 찾기\n",
    "contours, hierachy = cv2.findContours(binary, cv2.RETR_EXTERNAL, cv2.CHAIN_APPROX_NONE) #return값:윤곽선,계층구조\n",
    "\n",
    "#윤곽선 그리기\n",
    "for contour in contours:\n",
    "    x, y, width, height = cv2.boundingRect(contour)\n",
    "    cv2.rectangle(coppied, (x,y), (x+width,y+height), (255,55,0), 2)\n",
    "    \n",
    "cv2.imshow('contours',coppied)\n",
    "cv2.waitKey(0)\n",
    "cv2.destroyAllWindows()"
   ]
  },
  {
   "cell_type": "markdown",
   "metadata": {},
   "source": [
    "### 실습3. 순서대로 박스 표시"
   ]
  },
  {
   "cell_type": "code",
   "execution_count": 7,
   "metadata": {},
   "outputs": [
    {
     "name": "stdout",
     "output_type": "stream",
     "text": [
      "[[0 0 0 ... 0 0 0]\n",
      " [0 0 0 ... 0 0 0]\n",
      " [0 0 0 ... 0 0 0]\n",
      " ...\n",
      " [0 0 0 ... 0 0 0]\n",
      " [0 0 0 ... 0 0 0]\n",
      " [0 0 0 ... 0 0 0]]\n"
     ]
    }
   ],
   "source": [
    "VEHICLES = 'images/vehicles.png'\n",
    "img = cv2.imread(VEHICLES)\n",
    "\n",
    "#그레이스케일로 변환\n",
    "gray = cv2.cvtColor(img,cv2.COLOR_BGR2GRAY)\n",
    "ret , binary = cv2.threshold(gray,-1,255,cv2.THRESH_BINARY|cv2.THRESH_OTSU)\n",
    "print(binary)\n",
    "#윤곽선 찾기\n",
    "contours, hierachy = cv2.findContours(binary, cv2.RETR_EXTERNAL, cv2.CHAIN_APPROX_NONE) #return값:윤곽선,계층구조\n",
    "\n",
    "name = \"contour\"\n",
    "cv2.namedWindow(name)\n",
    "cv2.createTrackbar(\"index\",name, 0, len(contours)-1, lambda x:x)\n",
    "\n",
    "while True:\n",
    "    index = cv2.getTrackbarPos('index',name)\n",
    "    coppied = img.copy()\n",
    "    x, y, width, height = cv2.boundingRect(contours[index])\n",
    "    cv2.rectangle(coppied, (x,y), (x+width,y+height), (255,255,0), 2)\n",
    "    cv2.imshow(name,coppied)\n",
    "    \n",
    "    if cv2.waitKey(1) != -1:\n",
    "        break\n",
    "\n",
    "cv2.destroyAllWindows()"
   ]
  },
  {
   "cell_type": "code",
   "execution_count": 3,
   "metadata": {},
   "outputs": [],
   "source": [
    "# # <의사코드>\n",
    "\n",
    "# # 윤곽선을 찾고 : 그레이스케일 -> 이진화 -> foundContours\n",
    "# # 윤곽선의 인덱스를 선택해서 -> 트랙바 이용 -> while문 써야함\n",
    "# # 해당 인덱스의 contour의 boundingRect를 추출하고 -> cv2.boundingRect\n",
    "# # contours[i] -> rect\n",
    "# # 화면에 사각형을 그린다. -> cv2.rectangle\n",
    "\n",
    "# #리더님 ver)\n",
    "img = cv2.imread(\"images/vehicles.png\")\n",
    "coppied = img.copy()\n",
    "name = \"Vehicles\"\n",
    "cv2.namedWindow(name)\n",
    "\n",
    "# 윤곽선을 찾고 : 그레이스케일 -> 이진화 -> findContours\n",
    "gray = cv2.cvtColor(coppied, cv2.COLOR_BGR2GRAY)\n",
    "ret, binary = cv2.threshold(gray, -1, 255, cv2.THRESH_BINARY | cv2.THRESH_OTSU)\n",
    "contours, hierachy = cv2.findContours(binary, cv2.RETR_EXTERNAL, cv2.CHAIN_APPROX_SIMPLE)\n",
    "\n",
    "# 윤곽선의 인덱스를 선택해서 -> 트랙바이용 -> while\n",
    "cv2.createTrackbar(\"Index\", name, 0, len(contours)-1, lambda x:x)\n",
    "\n",
    "while True:\n",
    "  target = img.copy()\n",
    "  index = cv2.getTrackbarPos(\"Index\", name)\n",
    "\n",
    "  # 해당 인덱스의 contour의 bounding rect를 추출하고 -> cv2.boundingRect\n",
    "  x, y, width, height = cv2.boundingRect(contours[index])\n",
    "\n",
    "  # contours[i] -> rect\n",
    "  # 화면에 사각형을 그린다다 -> cv2.rectangle\n",
    "  cv2.rectangle(target, (x,y), (x+width, y+height), (0,255,0), 2)\n",
    "  cv2.imshow(name, target)\n",
    "\n",
    "  if cv2.waitKey(1) == ord(\"q\"):\n",
    "    break\n",
    "\n",
    "cv2.destroyAllWindows()\n"
   ]
  },
  {
   "cell_type": "markdown",
   "metadata": {},
   "source": [
    "### 12-3. contourArea"
   ]
  },
  {
   "cell_type": "code",
   "execution_count": 9,
   "metadata": {},
   "outputs": [],
   "source": [
    "img = cv2.imread(\"images/vehicles.png\")\n",
    "coppied = img.copy()\n",
    "name = \"Vehicles\"\n",
    "cv2.namedWindow(name)\n",
    "\n",
    "# 윤곽선을 찾고 : 그레이스케일 -> 이진화 -> findContours\n",
    "gray = cv2.cvtColor(coppied, cv2.COLOR_BGR2GRAY)\n",
    "ret, binary = cv2.threshold(gray, -1, 255, cv2.THRESH_BINARY | cv2.THRESH_OTSU)\n",
    "contours, hierachy = cv2.findContours(binary, cv2.RETR_EXTERNAL, cv2.CHAIN_APPROX_SIMPLE)\n",
    "\n",
    "# 윤곽선의 면적이 특정 크기 이상인 윤곽선을 새로운 리스트에 저장\n",
    "MIN_AREA = 1000\n",
    "filtered_contours = []\n",
    "for contour in contours:\n",
    "    if cv2.contourArea(contour) > MIN_AREA:\n",
    "        filtered_contours.append(contour)\n",
    "        \n",
    "cv2.createTrackbar(\"Index\", name, 0, len(filtered_contours)-1, lambda x:x)\n",
    "\n",
    "while True:\n",
    "  target = img.copy()\n",
    "  index = cv2.getTrackbarPos(\"Index\", name)\n",
    "\n",
    "  # 해당 인덱스의 contour의 bounding rect를 추출하고 -> cv2.boundingRect\n",
    "  x, y, width, height = cv2.boundingRect(filtered_contours[index])\n",
    "\n",
    "  # contours[i] -> rect\n",
    "  # 화면에 사각형을 그린다다 -> cv2.rectangle\n",
    "  cv2.rectangle(target, (x,y), (x+width, y+height), (0,255,0), 2)\n",
    "  cv2.imshow(name, target)\n",
    "\n",
    "  if cv2.waitKey(1) == ord(\"q\"):\n",
    "    break\n",
    "\n",
    "cv2.destroyAllWindows()"
   ]
  },
  {
   "cell_type": "markdown",
   "metadata": {},
   "source": [
    "### 실습4. 카드 하나씩 새 창에 표시"
   ]
  },
  {
   "cell_type": "code",
   "execution_count": 29,
   "metadata": {},
   "outputs": [],
   "source": [
    "import cv2\n",
    "PLAYINGCARD = 'images/playing_cards.png'\n",
    "img = cv2.imread(PLAYINGCARD)\n",
    "coppied = img.copy()\n",
    "\n",
    "#그레이스케일로 변환\n",
    "gray = cv2.cvtColor(coppied,cv2.COLOR_BGR2GRAY)\n",
    "ret , binary = cv2.threshold(gray,-1,255,cv2.THRESH_BINARY|cv2.THRESH_OTSU)\n",
    "contours, _ = cv2.findContours(binary, cv2.RETR_EXTERNAL, cv2.CHAIN_APPROX_SIMPLE)\n",
    "cv2.drawContours(img,contours,-1,(0,255,0),1)\n",
    "\n",
    "for idx, contour in enumerate(contours): #enumerate: 반복문 넣으면 인덱스와 요소를 같이 가져오는 함수\n",
    "    if cv2.contourArea(contour) > 25000:\n",
    "        x, y, width, height = cv2.boundingRect(contour)\n",
    "        cv2.rectangle(img, (x,y), (x+width,y+height), (0,255,0), 2)\n",
    "        crop = img[y:y+height, x:x+width]\n",
    "        crop = cv2.resize(crop, None, fx=1.5, fy=1.5)\n",
    "        cv2.imshow(f\"card {idx}\",crop)\n",
    "        \n",
    "cv2.imshow('img',img)    \n",
    "cv2.waitKey(0)\n",
    "cv2.destroyAllWindows()"
   ]
  }
 ],
 "metadata": {
  "kernelspec": {
   "display_name": "my_cv",
   "language": "python",
   "name": "python3"
  },
  "language_info": {
   "codemirror_mode": {
    "name": "ipython",
    "version": 3
   },
   "file_extension": ".py",
   "mimetype": "text/x-python",
   "name": "python",
   "nbconvert_exporter": "python",
   "pygments_lexer": "ipython3",
   "version": "3.10.11"
  }
 },
 "nbformat": 4,
 "nbformat_minor": 2
}
