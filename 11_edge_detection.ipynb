{
 "cells": [
  {
   "cell_type": "markdown",
   "metadata": {},
   "source": [
    "## 11. 경계선 검출(Canny Edge Detection)\n",
    "- 약한 임계값과 강한 임계값을 사용해 경계선을 검출\n",
    "- 그레이스케일 적용 -> 블러로 노이즈 제거 -> Canny 적용"
   ]
  },
  {
   "cell_type": "code",
   "execution_count": 2,
   "metadata": {},
   "outputs": [],
   "source": [
    "import cv2\n",
    "MOUNTAIN = 'images/mountain.jpg'"
   ]
  },
  {
   "cell_type": "markdown",
   "metadata": {},
   "source": [
    "### 11-1. 기본 구현"
   ]
  },
  {
   "cell_type": "code",
   "execution_count": 3,
   "metadata": {},
   "outputs": [],
   "source": [
    "img = cv2.imread(MOUNTAIN,cv2.IMREAD_GRAYSCALE)\n",
    "canny = cv2.Canny(img, 50, 150)\n",
    "\n",
    "cv2.imshow('img',img)\n",
    "cv2.imshow('Canny',canny)\n",
    "\n",
    "cv2.waitKey(0)\n",
    "cv2.destroyAllWindows()"
   ]
  },
  {
   "cell_type": "markdown",
   "metadata": {},
   "source": [
    "### 11-2. 트랙바"
   ]
  },
  {
   "cell_type": "code",
   "execution_count": 4,
   "metadata": {},
   "outputs": [],
   "source": [
    "img = cv2.imread(MOUNTAIN,cv2.IMREAD_GRAYSCALE)\n",
    "name = \"Canny\"\n",
    "cv2.namedWindow(name)\n",
    "cv2.createTrackbar(\"threshold1\",name, 50, 255, lambda x:x)\n",
    "cv2.createTrackbar(\"threshold2\",name, 150, 255, lambda x:x)\n",
    "\n",
    "while True:\n",
    "    threshold1 = cv2.getTrackbarPos('threshold1',name)\n",
    "    threshold2 = cv2.getTrackbarPos('threshold2',name)\n",
    "\n",
    "    canny = cv2.Canny(img, threshold1, threshold2)\n",
    "    cv2.imshow(name,canny)\n",
    "    if cv2.waitKey(1) == ord('q'):\n",
    "        break\n",
    "cv2.destroyAllWindows()"
   ]
  },
  {
   "cell_type": "markdown",
   "metadata": {},
   "source": [
    "### 실습2. 캠화면에 검출"
   ]
  },
  {
   "cell_type": "code",
   "execution_count": 9,
   "metadata": {},
   "outputs": [],
   "source": [
    "#실습 웹켐으로 사진찍기\n",
    "cap = cv2.VideoCapture(0)\n",
    "if not cap.isOpened():\n",
    "    exit()\n",
    "    \n",
    "name = \"Canny\"\n",
    "cv2.namedWindow(name)\n",
    "cv2.createTrackbar(\"threshold1\",name, 50, 255, lambda x:x)\n",
    "cv2.createTrackbar(\"threshold2\",name, 150, 255, lambda x:x)    \n",
    "    \n",
    "while True:\n",
    "    ret, frame = cap.read()\n",
    "    if not ret:\n",
    "        break\n",
    "    \n",
    "    threshold1 = cv2.getTrackbarPos('threshold1',name)\n",
    "    threshold2 = cv2.getTrackbarPos('threshold2',name)\n",
    "    canny = cv2.Canny(frame, threshold1, threshold2)\n",
    "    cv2.imshow(name,canny)\n",
    "    \n",
    "    if cv2.waitKey(1) == ord(\"q\"):\n",
    "        break\n",
    "\n",
    "cap.release()\n",
    "cv2.destroyAllWindows()\n",
    "        \n"
   ]
  },
  {
   "cell_type": "markdown",
   "metadata": {},
   "source": [
    "### 블러 적용한것과 적용 안한것과 차이"
   ]
  },
  {
   "cell_type": "code",
   "execution_count": 14,
   "metadata": {},
   "outputs": [],
   "source": [
    "img = cv2.imread('images/dog.jpg',cv2.IMREAD_GRAYSCALE)\n",
    "blurred = cv2.GaussianBlur(img,(0,0),1)\n",
    "\n",
    "canny_img = cv2.Canny(img,50,150)\n",
    "canny_blurred = cv2.Canny(blurred,50,150)\n",
    "\n",
    "cv2.imshow('img',canny_img)\n",
    "cv2.imshow('blur',canny_blurred)\n",
    "\n",
    "cv2.waitKey(0)\n",
    "cv2.destroyAllWindows()"
   ]
  }
 ],
 "metadata": {
  "kernelspec": {
   "display_name": "my_cv",
   "language": "python",
   "name": "python3"
  },
  "language_info": {
   "codemirror_mode": {
    "name": "ipython",
    "version": 3
   },
   "file_extension": ".py",
   "mimetype": "text/x-python",
   "name": "python",
   "nbconvert_exporter": "python",
   "pygments_lexer": "ipython3",
   "version": "3.10.11"
  }
 },
 "nbformat": 4,
 "nbformat_minor": 2
}
