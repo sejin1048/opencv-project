{
 "cells": [
  {
   "cell_type": "markdown",
   "metadata": {},
   "source": [
    "## 13. 얼굴 인식"
   ]
  },
  {
   "cell_type": "code",
   "execution_count": 51,
   "metadata": {},
   "outputs": [],
   "source": [
    "import cv2\n",
    "IU = 'images/IU.jpg'\n",
    "FAMILY = 'images/family.jpg'\n",
    "DOG = 'images/dog.jpg'\n",
    "CROSS = 'images/cross.jpg'"
   ]
  },
  {
   "cell_type": "code",
   "execution_count": 22,
   "metadata": {},
   "outputs": [
    {
     "name": "stdout",
     "output_type": "stream",
     "text": [
      "[[620 245 111 111]\n",
      " [424 127  79  79]\n",
      " [563 393  99  99]\n",
      " [421 262 105 105]]\n"
     ]
    }
   ],
   "source": [
    "face_cascade = cv2.CascadeClassifier('cascade/haarcascade_frontalface_default.xml')\n",
    "# eye_cascade = cv2.CascadeClassifier('cascade/haarcascade_eye.xml')\n",
    "\n",
    "img = cv2.imread(FAMILY)\n",
    "gray = cv2.cvtColor(img,cv2.COLOR_BGR2GRAY)\n",
    "faces = face_cascade.detectMultiScale(\n",
    "    gray, scaleFactor = 1.1, minNeighbors = 10, minSize = (20,20)\n",
    ")\n",
    "# print(faces)\n",
    "\n",
    "for face in faces:\n",
    "    x, y, width, height = face\n",
    "    cv2.rectangle(img, (x,y), (x+width, y+height), (0,255,0), 4)\n",
    "\n",
    "\n",
    "cv2.imshow('img',img)\n",
    "cv2.waitKey(0)\n",
    "cv2.destroyAllWindows()"
   ]
  },
  {
   "cell_type": "code",
   "execution_count": 54,
   "metadata": {},
   "outputs": [],
   "source": [
    "face_cascade = cv2.CascadeClassifier(\"cascade/haarcascade_frontalface_default.xml\")\n",
    "eye_cascade = cv2.CascadeClassifier(\"cascade/haarcascade_eye.xml\")\n",
    "img = cv2.imread(CROSS)\n",
    "gray = cv2.cvtColor(img, cv2.COLOR_BGR2GRAY)\n",
    "faces = face_cascade.detectMultiScale(\n",
    "    gray, scaleFactor=1.1, minNeighbors=10, minSize=(20,20)\n",
    ")\n",
    "eyes = eye_cascade.detectMultiScale(\n",
    "    gray, scaleFactor=1.1, minNeighbors=2, maxSize=(50,50)\n",
    ")\n",
    "if len (faces):\n",
    "    for face in faces:\n",
    "        x, y, width, height = face\n",
    "        cv2.rectangle(img, (x,y), (x+width, y+height), (0,255,0), 4)\n",
    "if len (eyes):\n",
    "    for eye in eyes:\n",
    "        x, y, width, height = eye\n",
    "        cv2.rectangle(img, (x,y), (x+width, y+height), (255,0,255), 3)\n",
    "cv2.imshow(\"img\", img)\n",
    "cv2.waitKey(0)\n",
    "cv2.destroyAllWindows()"
   ]
  },
  {
   "cell_type": "markdown",
   "metadata": {},
   "source": [
    "### 동영상에서 얼굴 인식 트랙바 version)"
   ]
  },
  {
   "cell_type": "code",
   "execution_count": 4,
   "metadata": {},
   "outputs": [],
   "source": [
    "# 얼굴인식\n",
    "import cv2\n",
    "face_cascade = cv2.CascadeClassifier('cascade/haarcascade_frontalface_default.xml')\n",
    "road_path = 'videos/person2.mp4'\n",
    "cap = cv2.VideoCapture(road_path)\n",
    "fps = cap.get(cv2.CAP_PROP_FPS)\n",
    "\n",
    "name = 'video'\n",
    "cv2.namedWindow(name)\n",
    "cv2.createTrackbar(\"minSize\",name, 0, 200, lambda x:x)\n",
    "cv2.createTrackbar(\"maxSize\",name, 0, 1000, lambda x:x)\n",
    "\n",
    "while cap.isOpened():\n",
    "    threshold1 = cv2.getTrackbarPos('minSize',name)\n",
    "    threshold2 = cv2.getTrackbarPos('maxSize',name)\n",
    "    \n",
    "    ret, frame = cap.read()\n",
    "    \n",
    "    if not ret:\n",
    "        break\n",
    "    \n",
    "    faces = face_cascade.detectMultiScale(\n",
    "    frame, scaleFactor = 1.1, minNeighbors = 5, minSize = (threshold1,threshold1), maxSize=(threshold2,threshold2)\n",
    "    )\n",
    "\n",
    "    if len(faces):\n",
    "        for x, y, w, h in faces:\n",
    "            cv2.rectangle(frame, (x,y), (x+w,y+h), (0,255,0), 4)\n",
    "            \n",
    "    frame = cv2.resize(frame, None, fx=0.5, fy=0.5)\n",
    "    cv2.imshow(name,frame)\n",
    "    \n",
    "    if cv2.waitKey(int(1000/fps)) == ord(\"q\"):\n",
    "        break\n",
    "\n",
    "cap.release()\n",
    "cv2.destroyAllWindows()\n"
   ]
  },
  {
   "cell_type": "markdown",
   "metadata": {},
   "source": [
    "### 동영상에서 얼굴 인식"
   ]
  },
  {
   "cell_type": "code",
   "execution_count": 5,
   "metadata": {},
   "outputs": [],
   "source": [
    "# 얼굴인식\n",
    "import cv2\n",
    "face_cascade = cv2.CascadeClassifier('cascade/haarcascade_frontalface_default.xml')\n",
    "road_path = 'videos/person2.mp4'\n",
    "cap = cv2.VideoCapture(road_path)\n",
    "fps = cap.get(cv2.CAP_PROP_FPS)\n",
    "\n",
    "while cap.isOpened():\n",
    "    \n",
    "    ret, frame = cap.read()\n",
    "    \n",
    "    if not ret:\n",
    "        break\n",
    "    \n",
    "    faces = face_cascade.detectMultiScale(\n",
    "    frame, scaleFactor = 1.1, minNeighbors = 5, minSize = (30,30), maxSize=(2000,2000)\n",
    "    )\n",
    "\n",
    "    if len(faces):\n",
    "        for x, y, w, h in faces:\n",
    "            cv2.rectangle(frame, (x,y), (x+w,y+h), (0,255,0), 4)\n",
    "            \n",
    "    frame = cv2.resize(frame, None, fx=0.5, fy=0.5)\n",
    "    cv2.imshow('video',frame)\n",
    "    \n",
    "    if cv2.waitKey(int(1000/fps)) == ord(\"q\"):\n",
    "        break\n",
    "\n",
    "cap.release()\n",
    "cv2.destroyAllWindows()\n"
   ]
  },
  {
   "cell_type": "markdown",
   "metadata": {},
   "source": [
    "### 실습1. 캠화면에 적용"
   ]
  },
  {
   "cell_type": "code",
   "execution_count": 7,
   "metadata": {},
   "outputs": [],
   "source": [
    "# 얼굴인식\n",
    "import cv2\n",
    "face_cascade = cv2.CascadeClassifier(\"cascade/haarcascade_frontalface_default.xml\")\n",
    "eye_cascade = cv2.CascadeClassifier(\"cascade/haarcascade_eye.xml\")\n",
    "\n",
    "cap = cv2.VideoCapture(0)\n",
    "if not cap.isOpened():\n",
    "    exit()\n",
    "    \n",
    "# list_1 = [1,2,3]\n",
    "# list_2 = ['r','s','d']\n",
    "# print(list(zip(list_1,list_2)))\n",
    "SCALE = 2\n",
    "COLOR = (255,255,255)\n",
    "THICKNESS = 1\n",
    "\n",
    "while True:\n",
    "    ret,frame = cap.read()\n",
    "    if not ret:\n",
    "        break\n",
    "    gray = cv2.cvtColor(frame, cv2.COLOR_BGR2GRAY)\n",
    "    \n",
    "    faces = face_cascade.detectMultiScale(gray, scaleFactor=1.1, minNeighbors=10, minSize=(30,30))\n",
    "    eyes = eye_cascade.detectMultiScale(gray, scaleFactor=1.1, minNeighbors=5, maxSize=(30,30))\n",
    "    objects, weights = face_cascade.detectMultiScale2(gray, scaleFactor=1.1, minNeighbors=5, minSize=(20, 20))\n",
    "    \n",
    "    if len(faces):\n",
    "        for (x, y, w, h),weight in zip(faces,weights):\n",
    "            # if weight > 50:\n",
    "                cv2.rectangle(frame, (x,y), (x+w,y+h), (0,255,0), 4)\n",
    "                cv2.putText(frame, f\"face: {weight}\", (x,y), cv2.FONT_HERSHEY_PLAIN, SCALE,COLOR,THICKNESS)\n",
    "    if len(eyes):\n",
    "        for (x, y, w, h),weights in zip(eyes,weights):\n",
    "            cv2.rectangle(frame, (x,y), (x+w,y+h), (0,255,0), 4)\n",
    "            cv2.putText(frame, \"eye\", (x,y), cv2.FONT_HERSHEY_PLAIN, SCALE,COLOR,THICKNESS)\n",
    "            \n",
    "    cv2.imshow(\"Camera\",frame)\n",
    "    if cv2.waitKey(1) == ord(\"q\"):\n",
    "        break\n",
    "        \n",
    "cap.release()\n",
    "cv2.destroyAllWindows()"
   ]
  },
  {
   "cell_type": "markdown",
   "metadata": {},
   "source": [
    "### 연습"
   ]
  },
  {
   "cell_type": "code",
   "execution_count": 9,
   "metadata": {},
   "outputs": [],
   "source": [
    "face_cascade = cv2.CascadeClassifier(\"cascade/haarcascade_frontalface_default.xml\")\n",
    "eye_cascade = cv2.CascadeClassifier(\"cascade/haarcascade_eye.xml\")\n",
    "\n",
    "cap = cv2.VideoCapture(0)\n",
    "\n",
    "if not cap.isOpened():\n",
    "  exit()\n",
    "\n",
    "while True:\n",
    "  ret, frame = cap.read()\n",
    "\n",
    "  if not ret:\n",
    "    break\n",
    "  \n",
    "  gray = cv2.cvtColor(frame, cv2.COLOR_BGR2GRAY)\n",
    "\n",
    "  faces, weights = face_cascade.detectMultiScale2(\n",
    "    gray, scaleFactor=1.1, minNeighbors=10\n",
    "  )\n",
    "  eyes = eye_cascade.detectMultiScale(\n",
    "    gray, scaleFactor=1.1, minNeighbors=5\n",
    "  )\n",
    "\n",
    "  if len(faces):\n",
    "    for (x,y,w,h), weight in zip(faces, weights):\n",
    "        cv2.rectangle(frame, (x,y), (x+w,y+h), (0,255,0), 4)\n",
    "        cv2.putText(frame, f\"face: {weight}\", (x,y), cv2.FONT_HERSHEY_PLAIN, 1.5, (255,255,255), 1)\n",
    "\n",
    "  if len(eyes):\n",
    "    for (x,y,w,h), weight in zip(eyes, weights):\n",
    "      cv2.rectangle(frame, (x,y), (x+w,y+h), (255,0,0), 3)\n",
    "      cv2.putText(frame, f\"eye: {weight}\", (x,y), cv2.FONT_HERSHEY_PLAIN, 1.5, (255,255,255), 1)\n",
    "\n",
    "  cv2.imshow(\"Video\", frame)\n",
    "\n",
    "  if cv2.waitKey(1) == ord(\"q\"):\n",
    "    break\n",
    "\n",
    "cap.release()\n",
    "cv2.destroyAllWindows()"
   ]
  },
  {
   "cell_type": "markdown",
   "metadata": {},
   "source": [
    "### 실습2. 귀여운 눈 덮어쓰기"
   ]
  },
  {
   "cell_type": "code",
   "execution_count": 1,
   "metadata": {},
   "outputs": [
    {
     "name": "stdout",
     "output_type": "stream",
     "text": [
      "(42, 42, 3)\n"
     ]
    }
   ],
   "source": [
    "import cv2\n",
    "import numpy as np\n",
    "CROSS = 'images/IU.jpg'\n",
    "eye_cascade = cv2.CascadeClassifier(\"cascade/haarcascade_eye.xml\")\n",
    "\n",
    "img = cv2.imread(CROSS)\n",
    "left_eye = cv2.imread('images/left_eye.jpg')\n",
    "right_eye = cv2.imread('images/right_eye.jpg')\n",
    "\n",
    "gray = cv2.cvtColor(img, cv2.COLOR_BGR2GRAY)\n",
    "eyes = eye_cascade.detectMultiScale(gray, scaleFactor=1.1, minNeighbors=4, maxSize=(50,50))\n",
    "\n",
    "indices = np.argsort(eyes[:,0])\n",
    "sorted_eyes = eyes[indices]\n",
    "\n",
    "if len (eyes):\n",
    "    for i,(x, y, width, height) in enumerate(sorted_eyes):\n",
    "      if i%2 == 0:\n",
    "        new_eye = right_eye\n",
    "      else:\n",
    "        new_eye = left_eye\n",
    "      \n",
    "      new_eye = cv2.resize(new_eye,(width,height))\n",
    "      img[y:y+new_eye.shape[0], x:x+new_eye.shape[1]] = new_eye\n",
    "\n",
    "cv2.imshow(\"img\", img)        \n",
    "cv2.waitKey(0)\n",
    "cv2.destroyAllWindows()"
   ]
  },
  {
   "cell_type": "markdown",
   "metadata": {},
   "source": [
    "### 동영상에 눈 덮어쓰기"
   ]
  },
  {
   "cell_type": "code",
   "execution_count": 2,
   "metadata": {},
   "outputs": [],
   "source": [
    "# 얼굴인식\n",
    "import cv2\n",
    "eye_cascade = cv2.CascadeClassifier(\"cascade/haarcascade_eye.xml\")\n",
    "road_path = 'videos/person2.mp4'\n",
    "cap = cv2.VideoCapture(road_path)\n",
    "fps = cap.get(cv2.CAP_PROP_FPS)\n",
    "\n",
    "while cap.isOpened():    \n",
    "    ret, frame = cap.read()\n",
    "    \n",
    "    if not ret:\n",
    "        break\n",
    "    \n",
    "    eyes = eye_cascade.detectMultiScale(frame, scaleFactor = 1.1, minNeighbors = 5, minSize = (20,20), maxSize=(200,200))\n",
    "\n",
    "    if len (eyes):\n",
    "        for i,(x, y, width, heigh) in enumerate(eyes):\n",
    "            if i%2 == 0:\n",
    "                new_eye = right_eye\n",
    "            else:\n",
    "                new_eye = left_eye\n",
    "        \n",
    "            new_eye = cv2.resize(new_eye,(width,height))\n",
    "            frame[y:y+height, x:x+width] = new_eye\n",
    "    \n",
    "    cv2.imshow('video',frame)\n",
    "    \n",
    "    if cv2.waitKey(int(1000/fps)) == ord(\"q\"):\n",
    "        break\n",
    "\n",
    "cv2.waitKey(0)\n",
    "cap.release()\n",
    "cv2.destroyAllWindows()\n"
   ]
  },
  {
   "cell_type": "code",
   "execution_count": 3,
   "metadata": {},
   "outputs": [],
   "source": [
    "# %conda install pytorch torchvision torchaudio cpuonly -c pytorch"
   ]
  },
  {
   "cell_type": "code",
   "execution_count": 3,
   "metadata": {},
   "outputs": [
    {
     "name": "stdout",
     "output_type": "stream",
     "text": [
      "\n",
      "image 1/1 c:\\Users\\hsjin\\git-test\\opencv-practice\\images\\IU.jpg: 640x480 1 person, 388.0ms\n",
      "Speed: 18.0ms preprocess, 388.0ms inference, 18.0ms postprocess per image at shape (1, 3, 640, 480)\n"
     ]
    }
   ],
   "source": [
    "import cv2\n",
    "from ultralytics import YOLO\n",
    "# image = cv2.imread('images/singer.jpg')\n",
    "# model = YOLO('yolo11n.pt') # initialize model\n",
    "# model.predict(source=image, conf=0.5)\n",
    "\n",
    "model = YOLO(\"yolo11n.pt\")  # initialize model\n",
    "results = model(\"images/IU.jpg\")  # perform inference\n",
    "results[0].show()  # display results for the first image"
   ]
  }
 ],
 "metadata": {
  "kernelspec": {
   "display_name": "ultralytics-env",
   "language": "python",
   "name": "python3"
  },
  "language_info": {
   "codemirror_mode": {
    "name": "ipython",
    "version": 3
   },
   "file_extension": ".py",
   "mimetype": "text/x-python",
   "name": "python",
   "nbconvert_exporter": "python",
   "pygments_lexer": "ipython3",
   "version": "3.11.11"
  }
 },
 "nbformat": 4,
 "nbformat_minor": 2
}
