{
 "cells": [
  {
   "cell_type": "markdown",
   "metadata": {},
   "source": [
    "## 08. 이진화\n",
    "- 임계값을 기준으로 색상을 흰색과 검은색으로 나누는 것."
   ]
  },
  {
   "cell_type": "code",
   "execution_count": 2,
   "metadata": {},
   "outputs": [],
   "source": [
    "import cv2\n",
    "import numpy as np\n",
    "\n",
    "BOOK = 'images/book.jpg'"
   ]
  },
  {
   "cell_type": "markdown",
   "metadata": {},
   "source": [
    "### 8-1. 기본 이진화 , 트랙바\n",
    "- 'ret, binary = cv2.threshold()'"
   ]
  },
  {
   "cell_type": "code",
   "execution_count": 5,
   "metadata": {},
   "outputs": [],
   "source": [
    "img = cv2.imread(BOOK,cv2.IMREAD_GRAYSCALE)\n",
    "\n",
    "# print(cv2.IMREAD_GRAYSCALE)\n",
    "ret, binary = cv2.threshold(img, 127, 255, cv2.THRESH_BINARY) #이진화를 계산하는 옵션이 달라짐. THERSH_BINARY는 default값으로서 임계값 보가 크면 흰색 작으면 검은색\n",
    "# print(ret, binary) # ret:임계값\n",
    "\n",
    "cv2.imshow('img',img)\n",
    "cv2.imshow('binary',binary)\n",
    "\n",
    "cv2.waitKey(0)\n",
    "cv2.destroyAllWindows()"
   ]
  },
  {
   "cell_type": "code",
   "execution_count": 7,
   "metadata": {},
   "outputs": [],
   "source": [
    "# 트랙바 만들기\n",
    "# affine 변환 사용\n",
    "img = cv2.imread(BOOK)\n",
    "name = 'Trackbar'\n",
    "cv2.namedWindow(name)\n",
    "\n",
    "trackbar_name = 'Rotation'\n",
    "cv2.createTrackbar(trackbar_name, name, 0, 360, lambda x: x)\n",
    "while True:\n",
    "    angle = cv2.getTrackbarPos(trackbar_name,name)\n",
    "    center = (img.shape[1]/2, img.shape[0]/2)\n",
    "    affine = cv2.getRotationMatrix2D(center, angle, 2) #angle은 기본으로는 반시계 방향으로 돌아감\n",
    "    dst = cv2.warpAffine(img, affine,(img.shape[1], img.shape[0])) #dsize:원본사이즈 유지\n",
    "    \n",
    "    cv2.imshow(name,dst)\n",
    "    if cv2.waitKey(1) != -1:\n",
    "        break\n",
    "    \n",
    "cv2.destroyAllWindows()"
   ]
  },
  {
   "cell_type": "markdown",
   "metadata": {},
   "source": [
    "### 실습 2-2. Threshold에 적용"
   ]
  },
  {
   "cell_type": "code",
   "execution_count": 10,
   "metadata": {},
   "outputs": [],
   "source": [
    "# 트랙바 만들기\n",
    "# affine 변환 사용\n",
    "img = cv2.imread(BOOK,cv2.IMREAD_GRAYSCALE)\n",
    "name = 'Trackbar'\n",
    "cv2.namedWindow(name)\n",
    "\n",
    "trackbar_name = 'Threshold'\n",
    "cv2.createTrackbar(trackbar_name, name, 127, 255, lambda x: x) # lambda x: x 처럼 빈 함수를 넣어서 에러 없애고 동작 시킴! \n",
    "\n",
    "while True:\n",
    "    thresh = cv2.getTrackbarPos(trackbar_name,name)\n",
    "    ret, binary = cv2.threshold(img,thresh,255,cv2.THRESH_BINARY) # 0과 255로 나누어 진다는 뜻.\n",
    "\n",
    "    cv2.imshow(name,binary)\n",
    "    if cv2.waitKey(1) != -1:\n",
    "        break\n",
    "    \n",
    "cv2.destroyAllWindows()"
   ]
  },
  {
   "cell_type": "markdown",
   "metadata": {},
   "source": [
    "### 실습2-1. 컬러 팔레트 만들기"
   ]
  },
  {
   "cell_type": "code",
   "execution_count": 7,
   "metadata": {},
   "outputs": [],
   "source": [
    "# 트랙바 만들기\n",
    "# affine 변환 사용\n",
    "import cv2\n",
    "import numpy as np\n",
    "img = np.zeros((400,600,3), dtype=np.uint8)\n",
    "name = 'image'\n",
    "cv2.namedWindow(name)\n",
    "\n",
    "# width, height = (img.shape[1], img.shape[0])\n",
    "\n",
    "trackbar_name1 = 'R'\n",
    "trackbar_name2 = 'G'\n",
    "trackbar_name3 = 'B'\n",
    "trackbar_name4 = '0:OFF\\n1:ON'\n",
    "\n",
    "cv2.createTrackbar(trackbar_name1, name, 0, 255, lambda x: x) # lambda x: x 처럼 빈 함수를 넣어서 에러 없애고 동작 시킴! \n",
    "cv2.createTrackbar(trackbar_name2, name, 0, 255, lambda x: x)\n",
    "cv2.createTrackbar(trackbar_name3, name, 0, 255, lambda x: x)\n",
    "cv2.createTrackbar(trackbar_name4, name, 0, 1, lambda x: x)\n",
    "\n",
    "while True:\n",
    "    R = cv2.getTrackbarPos(trackbar_name1,name)\n",
    "    G = cv2.getTrackbarPos(trackbar_name2,name)\n",
    "    B = cv2.getTrackbarPos(trackbar_name3,name)\n",
    "    BUTTON = cv2.getTrackbarPos(trackbar_name4,name)\n",
    "\n",
    "    img[:] = (B,G,R)\n",
    "    \n",
    "    if BUTTON == 0:\n",
    "        img[:] = (0,0,0)\n",
    "    else:\n",
    "        img[:] = (B,G,R)\n",
    "    \n",
    "    cv2.imshow(name,img)\n",
    "    if cv2.waitKey(1) != -1:\n",
    "        break\n",
    "    \n",
    "cv2.destroyAllWindows()"
   ]
  },
  {
   "cell_type": "markdown",
   "metadata": {},
   "source": [
    "### 8-2. 적응형 이진화(Adaptive threshold)\n",
    "- 블록마다 다른 임계값을 적용"
   ]
  },
  {
   "cell_type": "code",
   "execution_count": 12,
   "metadata": {},
   "outputs": [],
   "source": [
    "img = cv2.imread(BOOK, cv2.IMREAD_GRAYSCALE)\n",
    "name = 'Adaptive'\n",
    "cv2.namedWindow(name)\n",
    "\n",
    "#트랙바 이용해서 변경할값: Block,C값 -> 빛의 상태가 균일하지 않아 보정해주려고 임계값에서 빼주는값 : C값 \n",
    "#C값이 커지면 임계값이 작이지니까 흰색값이 많아짐\n",
    "cv2.createTrackbar('block_size',name,25,100,lambda x:x) #25:block사이즈 기본값\n",
    "cv2.createTrackbar('c',name,1,10,lambda x:x)\n",
    "\n",
    "\n",
    "while True:\n",
    "    block_size = cv2.getTrackbarPos('block_size',name) #block_size는 1보다 큰 홀수만 가능하므로 예외처리!\n",
    "    C = cv2.getTrackbarPos('c',name) # 일반적으로 양수를 사용\n",
    "    \n",
    "    if block_size <= 1:\n",
    "        block_size = 3\n",
    "    \n",
    "    if block_size % 2 == 0:\n",
    "        block_size += 1\n",
    "    \n",
    "    binary = cv2.adaptiveThreshold(img, 255, cv2.ADAPTIVE_THRESH_MEAN_C, cv2.THRESH_BINARY,block_size,C)\n",
    "    #임계값 적용 방식 : cv2.THRESH_BINARY <- 크면 흰색 , 작으면 검은색\n",
    "    cv2.imshow(name, binary)\n",
    "    \n",
    "    if cv2.waitKey(1) == ord('q'):\n",
    "        break\n",
    "cv2.destroyAllWindows()"
   ]
  },
  {
   "cell_type": "markdown",
   "metadata": {},
   "source": [
    "### 8-3. 오츠 알고리즘\n",
    "- 최적의 Threshold를 찾는 알고리즘"
   ]
  },
  {
   "cell_type": "code",
   "execution_count": 15,
   "metadata": {},
   "outputs": [],
   "source": [
    "import cv2\n",
    "img = cv2.imread(BOOK, cv2.IMREAD_GRAYSCALE)\n",
    "\n",
    "ret1, binary = cv2.threshold(img, 127, 255, cv2.THRESH_BINARY)\n",
    "ret2, otsu = cv2.threshold(img, -1, 255, cv2.THRESH_BINARY | cv2.THRESH_OTSU) # -1말고 아무거나 넣어도 됨!\n",
    "\n",
    "cv2.imshow('img',img)\n",
    "cv2.imshow('binary',binary)\n",
    "cv2.imshow('otsu',otsu)\n",
    "\n",
    "\n",
    "cv2.waitKey(0)\n",
    "cv2.destroyAllWindows()"
   ]
  }
 ],
 "metadata": {
  "kernelspec": {
   "display_name": "my_cv",
   "language": "python",
   "name": "python3"
  },
  "language_info": {
   "codemirror_mode": {
    "name": "ipython",
    "version": 3
   },
   "file_extension": ".py",
   "mimetype": "text/x-python",
   "name": "python",
   "nbconvert_exporter": "python",
   "pygments_lexer": "ipython3",
   "version": "3.10.11"
  }
 },
 "nbformat": 4,
 "nbformat_minor": 2
}
