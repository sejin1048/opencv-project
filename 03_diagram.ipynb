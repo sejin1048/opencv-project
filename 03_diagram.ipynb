{
 "cells": [
  {
   "cell_type": "markdown",
   "metadata": {},
   "source": [
    "## 03.도형 그리기"
   ]
  },
  {
   "cell_type": "code",
   "execution_count": 1,
   "metadata": {},
   "outputs": [],
   "source": [
    "import cv2\n",
    "import numpy as np"
   ]
  },
  {
   "cell_type": "markdown",
   "metadata": {},
   "source": [
    "### 3-1. 빈화면 만들기"
   ]
  },
  {
   "cell_type": "code",
   "execution_count": 5,
   "metadata": {},
   "outputs": [],
   "source": [
    "img = np.zeros((460,640,3), dtype=np.uint8) #(세로,가로) int8-> 2^8=256 -128~127 [B,G,R]순임\n",
    "# int vs uint : -128 ~ 127 vs uint : 0 ~ 255\n",
    "\n",
    "#흰 화면 띄우고 싶을때\n",
    "img[:] = (255,255,255)\n",
    "\n",
    "cv2.imshow('blank',img)\n",
    "cv2.waitKey(0)\n",
    "cv2.destroyAllWindows()\n",
    "# img "
   ]
  },
  {
   "cell_type": "markdown",
   "metadata": {},
   "source": [
    "### 3-2. 일부 영역 색칠"
   ]
  },
  {
   "cell_type": "code",
   "execution_count": 8,
   "metadata": {},
   "outputs": [],
   "source": [
    "img = np.zeros((460,640,3), dtype=np.uint8) #(세로,가로) int8-> 2^8=256 -128~127 [B,G,R]순임\n",
    "# int vs uint : -128 ~ 127 vs uint : 0 ~ 255\n",
    "\n",
    "#흰 화면 띄우고 싶을때\n",
    "img[100:300,100:300] = (255,255,0)\n",
    "\n",
    "cv2.imshow('blank',img)\n",
    "cv2.waitKey(0)\n",
    "cv2.destroyAllWindows()"
   ]
  },
  {
   "cell_type": "markdown",
   "metadata": {},
   "source": [
    "### 3-3. 선 그리기\n"
   ]
  },
  {
   "cell_type": "code",
   "execution_count": 15,
   "metadata": {},
   "outputs": [],
   "source": [
    "img = np.zeros((460,640,3), dtype=np.uint8)\n",
    "\n",
    "COLOR = (255,0,0)\n",
    "THICKNESS = 5\n",
    "\n",
    "cv2.line(img, (50,100), (400,50), COLOR,THICKNESS,cv2.LINE_4) #아무것도 입력하지 않으면 LINE_8이 디폴트\n",
    "cv2.line(img, (50,200), (400,50), COLOR,THICKNESS,cv2.LINE_8)\n",
    "cv2.line(img, (50,300), (400,50), COLOR,THICKNESS,cv2.LINE_AA)\n",
    "cv2.imshow('Line',img)\n",
    "cv2.waitKey(0)\n",
    "cv2.destroyAllWindows()"
   ]
  },
  {
   "cell_type": "markdown",
   "metadata": {},
   "source": [
    "### 3-4 원그리기"
   ]
  },
  {
   "cell_type": "code",
   "execution_count": 20,
   "metadata": {},
   "outputs": [],
   "source": [
    "img = np.zeros((460,640,3), dtype=np.uint8)\n",
    "\n",
    "RADIUS = 50\n",
    "COLOR = (0,255,0)\n",
    "THICKNESS = 10\n",
    "\n",
    "#속이 빈 원\n",
    "cv2.circle(img,(200,300),RADIUS,COLOR,THICKNESS,cv2.LINE_AA) #cv2.LINE_4 :4 , cv2.LINE_8 :8 , cv2.LINE_AA : 16\n",
    "#속이 찬 원\n",
    "cv2.circle(img,(400,300),RADIUS,COLOR,cv2.FILLED,cv2.LINE_AA)\n",
    "\n",
    "cv2.imshow('Circle',img)\n",
    "cv2.waitKey(0)\n",
    "cv2.destroyAllWindows()"
   ]
  },
  {
   "cell_type": "markdown",
   "metadata": {},
   "source": [
    "### 3-5 타원 그리기"
   ]
  },
  {
   "cell_type": "code",
   "execution_count": 32,
   "metadata": {},
   "outputs": [],
   "source": [
    "img = np.zeros((460,640,3), dtype=np.uint8)\n",
    "\n",
    "cv2.ellipse(img, (300,200), (100,50), 0, 0 ,360, (0,0,255), 5, cv2.LINE_AA)\n",
    "cv2.imshow('ellipse',img)\n",
    "cv2.waitKey(0)\n",
    "cv2.destroyAllWindows()"
   ]
  },
  {
   "cell_type": "markdown",
   "metadata": {},
   "source": [
    "### 3-6. 사각형 그리기"
   ]
  },
  {
   "cell_type": "code",
   "execution_count": 39,
   "metadata": {},
   "outputs": [],
   "source": [
    "img = np.zeros((460,640,3), dtype=np.uint8) \n",
    "cv2.rectangle(img,(50,50),(250,250),(255,255,0),10,cv2.LINE_AA) #왼쪽위,오른쪽아래\n",
    "cv2.rectangle(img,(260,50),(460,250),(255,255,0),cv2.FILLED,cv2.LINE_AA)\n",
    "cv2.imshow('rectangle',img)\n",
    "cv2.waitKey(0)\n",
    "cv2.destroyAllWindows()"
   ]
  },
  {
   "cell_type": "markdown",
   "metadata": {},
   "source": [
    "### 3-7. 다각형(선)"
   ]
  },
  {
   "cell_type": "code",
   "execution_count": 54,
   "metadata": {},
   "outputs": [],
   "source": [
    "img = np.zeros((460,640,3), dtype=np.uint8)\n",
    "\n",
    "pts = np.array([[[100,100],[200,100],[100,200]]]) # <-배열3중임 #배열 2중하면 밑에는 [pts]해줘야함\n",
    "\n",
    "cv2.polylines(img,pts,True,(255,0,255),5)\n",
    "cv2.imshow('polylines',img)\n",
    "cv2.waitKey(0)\n",
    "cv2.destroyAllWindows()\n"
   ]
  },
  {
   "cell_type": "markdown",
   "metadata": {},
   "source": [
    "### 3-8. 다각형(채우기)"
   ]
  },
  {
   "cell_type": "code",
   "execution_count": 53,
   "metadata": {},
   "outputs": [],
   "source": [
    "img = np.zeros((460,640,3), dtype=np.uint8)\n",
    "\n",
    "pts = np.array([[[100,100],[200,100],[100,200]]]) # <-배열3중임 #배열 2중하면 밑에는 [pts]해줘야함\n",
    "\n",
    "cv2.fillPoly(img,pts,(255,0,255))\n",
    "cv2.imshow('polylines',img)\n",
    "cv2.waitKey(0)\n",
    "cv2.destroyAllWindows()\n",
    "\n",
    "# print(pts.shape)"
   ]
  },
  {
   "cell_type": "markdown",
   "metadata": {},
   "source": [
    "#### 실습1. 도형그리기"
   ]
  },
  {
   "cell_type": "code",
   "execution_count": 127,
   "metadata": {},
   "outputs": [],
   "source": [
    "img = np.zeros((460,640,3), dtype=np.uint8)\n",
    "COLOR = (255,0,0)\n",
    "THICKNESS = 5\n",
    "mid_point = (200,60)\n",
    "mid_point2 = (200,200)\n",
    "radius = 50\n",
    "LINE = cv2.LINE_AA\n",
    "ANGLE = 0\n",
    "pts = np.array([[[370,110],[420,10],[470,110]]])\n",
    "pts2 = np.array([[[370,250],[420,150],[470,250]]])\n",
    "\n",
    "\n",
    "cv2.line(img, (230,400), (410,400), COLOR,THICKNESS,LINE)\n",
    "cv2.circle(img,mid_point,radius,COLOR,THICKNESS,LINE)\n",
    "cv2.ellipse(img, (320,400), (100,50), ANGLE, 0 ,360, (0,0,255), 5, cv2.LINE_AA)\n",
    "cv2.rectangle(img,(260,10),(360,110), (0,0,255),THICKNESS,LINE)\n",
    "cv2.polylines(img,pts,True,(255,0,255),5)\n",
    "\n",
    "cv2.circle(img,mid_point2,radius,COLOR,cv2.FILLED,LINE)\n",
    "cv2.rectangle(img,(260,150),(360,250), (0,0,255),cv2.FILLED,LINE)\n",
    "cv2.fillPoly(img,pts2,(255,0,255))\n",
    "\n",
    "cv2.imshow('review_1',img)\n",
    "cv2.waitKey(0)\n",
    "cv2.destroyAllWindows()\n",
    "\n"
   ]
  }
 ],
 "metadata": {
  "kernelspec": {
   "display_name": "my_cv",
   "language": "python",
   "name": "python3"
  },
  "language_info": {
   "codemirror_mode": {
    "name": "ipython",
    "version": 3
   },
   "file_extension": ".py",
   "mimetype": "text/x-python",
   "name": "python",
   "nbconvert_exporter": "python",
   "pygments_lexer": "ipython3",
   "version": "3.10.11"
  }
 },
 "nbformat": 4,
 "nbformat_minor": 2
}
