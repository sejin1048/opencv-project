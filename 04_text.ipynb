{
 "cells": [
  {
   "cell_type": "markdown",
   "metadata": {},
   "source": [
    "## 04. 텍스트"
   ]
  },
  {
   "cell_type": "markdown",
   "metadata": {},
   "source": [
    "### 4-1. 텍스트 기본(영어)\n",
    "- 한글 입력 지원X -> 별도의 작업 필요"
   ]
  },
  {
   "cell_type": "code",
   "execution_count": 2,
   "metadata": {},
   "outputs": [],
   "source": [
    "import cv2\n",
    "import numpy as np"
   ]
  },
  {
   "cell_type": "code",
   "execution_count": 8,
   "metadata": {},
   "outputs": [],
   "source": [
    "img = np.zeros((460,640,3), dtype=np.uint8)\n",
    "\n",
    "SCALE = 2\n",
    "COLOR = (255,255,255)\n",
    "THICKNESS = 2\n",
    "\n",
    "cv2.putText(img, \"Hello World!\", (100,100), cv2.FONT_HERSHEY_COMPLEX, SCALE,COLOR,THICKNESS) #text가 시작하는 지점\n",
    "cv2.putText(img, \"Hello World!\", (100,200), cv2.FONT_HERSHEY_DUPLEX, SCALE,COLOR,THICKNESS)\n",
    "cv2.putText(img, \"Hello World!\", (100,300), cv2.FONT_HERSHEY_PLAIN|cv2.FONT_ITALIC,3,COLOR,THICKNESS)\n",
    "cv2.imshow(\"TEXT\",img)\n",
    "cv2.waitKey(0)\n",
    "cv2.destroyAllWindows()"
   ]
  },
  {
   "cell_type": "markdown",
   "metadata": {},
   "source": [
    "### 4-2. 한글 텍스트 입력 by using) pip install pillow"
   ]
  },
  {
   "cell_type": "code",
   "execution_count": 4,
   "metadata": {},
   "outputs": [],
   "source": [
    "# !pip install pillow #한글을 그린다는 느낌"
   ]
  },
  {
   "cell_type": "code",
   "execution_count": 13,
   "metadata": {},
   "outputs": [],
   "source": [
    "from PIL import Image,ImageDraw,ImageFont\n",
    "img = np.zeros((460,640,3), dtype=np.uint8)\n",
    "\n",
    "def putKorText(img,text,pos,font_size,font_color):\n",
    "    img_pil = Image.fromarray(img)\n",
    "    draw = ImageDraw.Draw(img_pil) #이미지를 그려주는 객체 생성\n",
    "    font = ImageFont.truetype(\"fonts/gulim.ttc\",font_size)\n",
    "    draw.text(pos, text, font=font, fill=font_color)\n",
    "    return np.array(img_pil) #img_pil에 한글 텍스트를 그리고 있다.\n",
    "\n",
    "text = putKorText(img, '스팩 7기 화이팅', (100,100), 30, (255,255,255))\n",
    "cv2.imshow(\"Korean Text\",text)\n",
    "cv2.waitKey(0)\n",
    "cv2.destroyAllWindows()"
   ]
  }
 ],
 "metadata": {
  "kernelspec": {
   "display_name": "my_cv",
   "language": "python",
   "name": "python3"
  },
  "language_info": {
   "codemirror_mode": {
    "name": "ipython",
    "version": 3
   },
   "file_extension": ".py",
   "mimetype": "text/x-python",
   "name": "python",
   "nbconvert_exporter": "python",
   "pygments_lexer": "ipython3",
   "version": "3.10.11"
  }
 },
 "nbformat": 4,
 "nbformat_minor": 2
}
